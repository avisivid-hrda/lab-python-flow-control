{
 "cells": [
  {
   "cell_type": "markdown",
   "id": "d3bfc191-8885-42ee-b0a0-bbab867c6f9f",
   "metadata": {
    "tags": []
   },
   "source": [
    "# Lab | Flow Control"
   ]
  },
  {
   "cell_type": "markdown",
   "id": "3851fcd1-cf98-4653-9c89-e003b7ec9400",
   "metadata": {},
   "source": [
    "## Exercise: Managing Customer Orders Optimized\n",
    "\n",
    "In the last lab, you were starting an online store that sells various products. To ensure smooth operations, you developed a program that manages customer orders and inventory.\n",
    "\n",
    "You did so without using flow control. Let's go a step further and improve this code.\n",
    "\n",
    "Follow the steps below to complete the exercise:\n",
    "\n",
    "1. Look at your code from the lab data structures, and improve repeated code with loops.\n",
    "\n",
    "2. Instead of asking the user to input the name of three products that a customer wants to order, do the following:\n",
    "    \n",
    "    a. Prompt the user to enter the name of a product that a customer wants to order.\n",
    "    \n",
    "    b. Add the product name to the \"customer_orders\" set.\n",
    "    \n",
    "    c. Ask the user if they want to add another product (yes/no).\n",
    "    \n",
    "    d. Continue the loop until the user does not want to add another product.\n",
    "\n",
    "3. Instead of updating the inventory by subtracting 1 from the quantity of each product, only do it for  the products that were ordered (those in \"customer_orders\")."
   ]
  },
  {
   "cell_type": "code",
   "execution_count": null,
   "id": "cdbd88da",
   "metadata": {},
   "outputs": [
    {
     "name": "stdout",
     "output_type": "stream",
     "text": [
      "{'t-shirt': 76, 'mug': 22, 'hat': 81, 'book': 60, 'keychain': 3}\n"
     ]
    }
   ],
   "source": [
    "#Task 1\n",
    "products = [\"t-shirt\", \"mug\", \"hat\", \"book\", \"keychain\"]\n",
    "inventory = {}\n",
    "\n",
    "for product in products:\n",
    "    quantity = int(input(f\"Enter the number of {product} available in the inventory\"))\n",
    "    inventory[product] = quantity #name_of_the_dictionary(key) = output variable (or) value for the key\n",
    "print(inventory)"
   ]
  },
  {
   "cell_type": "code",
   "execution_count": 13,
   "id": "07aad4e5",
   "metadata": {},
   "outputs": [
    {
     "name": "stdout",
     "output_type": "stream",
     "text": [
      "Your order is complete!\n",
      "You ordered these products: {'hat', 'keychain', 'mug'}\n"
     ]
    }
   ],
   "source": [
    "#Task 2\n",
    "customer_orders = set()\n",
    "def order():\n",
    "    order_item = input(\"Please enter the name of the product you want to order\")\n",
    "    return order_item\n",
    "\n",
    "another_order = \"YES\" #set a true value for while loop, so it automatically ends when this is false\n",
    "\n",
    "while another_order == \"YES\":\n",
    "    product = order() #this variable is for storing what the ordered item is\n",
    "    customer_orders.add(product)\n",
    "    another_order = input(\"Do you want to add another order? Please type 'YES' or 'NO': \")\n",
    "    \n",
    "print(\"Your order is complete!\")\n",
    "print(\"You ordered these products:\", customer_orders)"
   ]
  },
  {
   "cell_type": "code",
   "execution_count": 15,
   "id": "fc9dcee9",
   "metadata": {},
   "outputs": [
    {
     "name": "stdout",
     "output_type": "stream",
     "text": [
      "{'t-shirt': 76, 'mug': 21, 'hat': 80, 'book': 60, 'keychain': 2}\n"
     ]
    }
   ],
   "source": [
    "#Task 3\n",
    "inventory = {'t-shirt': 76, 'mug': 22, 'hat': 81, 'book': 60, 'keychain': 3}\n",
    "\n",
    "for product, quantity in inventory.items():\n",
    "    if product in customer_orders:\n",
    "        inventory[product] = quantity -1 #dictionary_name[key] = value -1 (this will assign the value to the respective keys)\n",
    "print(inventory)"
   ]
  }
 ],
 "metadata": {
  "kernelspec": {
   "display_name": "base",
   "language": "python",
   "name": "python3"
  },
  "language_info": {
   "codemirror_mode": {
    "name": "ipython",
    "version": 3
   },
   "file_extension": ".py",
   "mimetype": "text/x-python",
   "name": "python",
   "nbconvert_exporter": "python",
   "pygments_lexer": "ipython3",
   "version": "3.13.5"
  }
 },
 "nbformat": 4,
 "nbformat_minor": 5
}
